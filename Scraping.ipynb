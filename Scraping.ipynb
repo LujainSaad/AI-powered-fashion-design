{
 "cells": [
  {
   "cell_type": "code",
   "execution_count": 1,
   "id": "b0a13f08-9574-4506-8bd0-05297c8df6a4",
   "metadata": {},
   "outputs": [
    {
     "name": "stdout",
     "output_type": "stream",
     "text": [
      "['/verso/static/vogue/assets/logo-runway.svg', '/verso/static/vogue/assets/logo-runway.svg', '/verso/static/vogue/assets/account-avatar-reverse.svg', 'https://assets.vogue.com/photos/617807274a375bf8d5c3b4f8/master/w_1280%2Cc_limit/00001-Mugler-Fall-21-Paris-credit-brand.jpg', 'https://assets.vogue.com/photos/60faf19892aa3a8523206593/master/w_1280%2Cc_limit/00001-RACHEL-Comey-Fall-21-credit-Annie-Powers-Courtesy-of-brand.jpg', 'https://assets.vogue.com/photos/60e209a32b12f7ec6c713522/master/w_1280%2Cc_limit/00001-Off-White-Fall-2021-Credit-Alessandro-Lucioni-GoRunway.jpg', 'https://assets.vogue.com/photos/60e5914a2b12f7ec6c7136de/master/w_1280%2Cc_limit/00001-MARC-Jacobs-Fall-21-RTW-NY-credit-Brand.jpg', 'https://assets.vogue.com/photos/60e843b6d0822186eb1ae43c/master/w_1280%2Cc_limit/00001-ALEXANDER-MCQUEEN-Fall-21-credit-Paolo-Roversi.jpg', 'https://assets.vogue.com/photos/60b75254deeade9d50fa66b8/master/w_1280%2Cc_limit/00001-Jason-Wu-Collection-Fall-21-New-York-credit-brand.jpg', 'https://assets.vogue.com/photos/60a64a11af22fdaeb1302e53/master/w_1280%2Cc_limit/00001-Sacai-Fall-21-credit-brand.jpg', 'https://assets.vogue.com/photos/60e6d2f47b98fb3ee6e71fb1/master/w_1280%2Cc_limit/00001-RODARTE-Fall-21-Los-Angeles-Photo-Credit-Todd-Cole-collection.jpg', 'https://assets.vogue.com/photos/609a54ffcca67c59dbab5c02/master/w_1280%2Cc_limit/00001-Duran-Lantink-Fall-21.jpg', 'https://assets.vogue.com/photos/60955c20a18aa424ab26e24c/master/w_1280%2Cc_limit/00001-Jonathan-Cohen-Fall-21.jpg', 'https://assets.vogue.com/photos/6196619462d40458c671b8b6/master/w_1280%2Cc_limit/00001-HANIFA-Fall-21-WashingtonDC-credit-brand.jpg', 'https://assets.vogue.com/photos/6155aeb146e0bef398cc0a2b/master/w_1280%2Cc_limit/00001-Ralp-Lauren-Fall-21-credit-brand.jpg', 'https://assets.vogue.com/photos/614caa06cb366e0df4397367/master/w_1280%2Cc_limit/00002-Kith-Fall-21-credit-Sebastian-Kim.jpg', 'https://assets.vogue.com/photos/61544c37d79f8681628ebcc8/master/w_1280%2Cc_limit/00001-COS-FALL-21-credit-Courtesy-of-COS.jpg', 'https://assets.vogue.com/photos/61559fe1036c25b39c57012a/master/w_1280%2Cc_limit/00001-Moncler-6-1017-Alyx-9SM-Milan-Credit-brand.jpg', 'https://assets.vogue.com/photos/61559f51ab0963ec5affa07c/master/w_1280%2Cc_limit/00001-Moncler-4-Hyke-Milan-Credit-brand.jpg', 'https://assets.vogue.com/photos/6155a1116dd7f85eae4baa90/master/w_1280%2Cc_limit/00001-Moncler-8-Palm-Angels-Fall-21-RTW-Milan-credit-brand.jpg', 'https://assets.vogue.com/photos/614244e72380e183e8a64b1c/master/w_1280%2Cc_limit/00001-PALM-ANGELS-FALL-2021-RTW-CREDIT-BRAND.jpg', 'https://assets.vogue.com/photos/613a725437fe5d578a6cb631/4:3/w_1600%2Cc_limit/HERO%25204x3%252010%2520sec.mp4', '/verso/static/vogue/assets/us/logo-reverse.svg']\n"
     ]
    }
   ],
   "source": [
    "import requests\n",
    "from bs4 import BeautifulSoup\n",
    "\n",
    "# define the URL of the webpage to scrape\n",
    "url = 'https://www.vogue.com/fashion-shows/fall-2021-ready-to-wear'\n",
    "\n",
    "# send a GET request to the webpage\n",
    "response = requests.get(url)\n",
    "\n",
    "# parse the HTML content of the webpage with Beautiful Soup\n",
    "soup = BeautifulSoup(response.content, 'html.parser')\n",
    "\n",
    "# find all the image tags on the webpage\n",
    "image_tags = soup.find_all('img')\n",
    "\n",
    "# extract the source URLs of the images\n",
    "image_urls = []\n",
    "for tag in image_tags:\n",
    "    if 'src' in tag.attrs:\n",
    "        image_urls.append(tag['src'])\n",
    "\n",
    "# print the image URLs\n",
    "print(image_urls)\n"
   ]
  }
 ],
 "metadata": {
  "kernelspec": {
   "display_name": "Python 3 (ipykernel)",
   "language": "python",
   "name": "python3"
  },
  "language_info": {
   "codemirror_mode": {
    "name": "ipython",
    "version": 3
   },
   "file_extension": ".py",
   "mimetype": "text/x-python",
   "name": "python",
   "nbconvert_exporter": "python",
   "pygments_lexer": "ipython3",
   "version": "3.9.7"
  }
 },
 "nbformat": 4,
 "nbformat_minor": 5
}
